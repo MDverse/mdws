{
 "cells": [
  {
   "cell_type": "markdown",
   "id": "f8dc0c37-276e-4279-b710-d3a6a2f1b6c5",
   "metadata": {},
   "source": [
    "# Analysis of Zenodo, Figshare and OSF data"
   ]
  },
  {
   "cell_type": "markdown",
   "id": "ada220c2-c589-4aae-a4c0-c582ec7b09ac",
   "metadata": {},
   "source": [
    "## Import packages"
   ]
  },
  {
   "cell_type": "code",
   "execution_count": 1,
   "id": "db6f72d5-d007-450d-9cb0-ec6fb0eba325",
   "metadata": {},
   "outputs": [],
   "source": [
    "import matplotlib.pyplot as plt\n",
    "import pandas as pd\n",
    "import yaml\n",
    "\n",
    "# Update font size for graphics\n",
    "plt.rcParams.update({'font.size': 20})"
   ]
  },
  {
   "cell_type": "markdown",
   "id": "20f83d4a-9483-4360-a177-2e37dc8b8f1f",
   "metadata": {},
   "source": [
    "## Load data"
   ]
  },
  {
   "cell_type": "code",
   "execution_count": 2,
   "id": "06369d5c-de38-470a-b654-ab34e33a3c71",
   "metadata": {},
   "outputs": [
    {
     "name": "stdout",
     "output_type": "stream",
     "text": [
      "zenodo: found 890 datasets.\n"
     ]
    },
    {
     "name": "stderr",
     "output_type": "stream",
     "text": [
      "/tmp/ipykernel_231630/1968452359.py:5: DtypeWarning: Columns (4,7) have mixed types. Specify dtype option on import or set low_memory=False.\n",
      "  files = pd.read_csv(f\"../data/{repository}_files.tsv\", sep=\"\\t\")\n"
     ]
    },
    {
     "name": "stdout",
     "output_type": "stream",
     "text": [
      "zenodo: found 155076 files.\n",
      "zenodo: merged dataframe has 155076 entries.\n",
      "figshare: found 1993 datasets.\n"
     ]
    },
    {
     "name": "stderr",
     "output_type": "stream",
     "text": [
      "/tmp/ipykernel_231630/1968452359.py:5: DtypeWarning: Columns (4,7) have mixed types. Specify dtype option on import or set low_memory=False.\n",
      "  files = pd.read_csv(f\"../data/{repository}_files.tsv\", sep=\"\\t\")\n"
     ]
    },
    {
     "name": "stdout",
     "output_type": "stream",
     "text": [
      "figshare: found 297063 files.\n",
      "figshare: merged dataframe has 297063 entries.\n",
      "osf: found 58 datasets.\n",
      "osf: found 5544 files.\n",
      "osf: merged dataframe has 5544 entries.\n",
      "Dimensions for final dataframe: (457683, 18)\n"
     ]
    }
   ],
   "source": [
    "df = pd.DataFrame()\n",
    "for repository in [\"zenodo\", \"figshare\", \"osf\"]:\n",
    "    datasets = pd.read_csv(f\"../data/{repository}_datasets.tsv\", sep=\"\\t\")\n",
    "    print(f\"{repository}: found {datasets.shape[0]} datasets.\")\n",
    "    files = pd.read_csv(f\"../data/{repository}_files.tsv\", sep=\"\\t\")\n",
    "    print(f\"{repository}: found {files.shape[0]} files.\")\n",
    "    tab = pd.merge(files, datasets, how=\"left\", on=[\"dataset_id\", \"dataset_origin\"], validate=\"many_to_one\")\n",
    "    print(f\"{repository}: merged dataframe has {tab.shape[0]} entries.\")\n",
    "    df = pd.concat([df, tab], ignore_index=True)\n",
    "print(f\"Dimensions for final dataframe: {df.shape}\")"
   ]
  },
  {
   "cell_type": "code",
   "execution_count": 3,
   "id": "60bc6ba6-9489-4075-a617-6a03d86fa3fc",
   "metadata": {},
   "outputs": [
    {
     "data": {
      "text/plain": [
       "Index(['dataset_origin', 'dataset_id', 'file_type', 'file_size', 'file_md5',\n",
       "       'from_zip_file', 'file_name', 'file_url', 'origin_zip_file', 'doi',\n",
       "       'date_creation', 'date_last_modified', 'date_fetched', 'file_number',\n",
       "       'download_number', 'view_number', 'license', 'dataset_url'],\n",
       "      dtype='object')"
      ]
     },
     "execution_count": 3,
     "metadata": {},
     "output_type": "execute_result"
    }
   ],
   "source": [
    "df.columns"
   ]
  },
  {
   "cell_type": "markdown",
   "id": "b67f0aef-63c3-40e2-9121-eb358c77e996",
   "metadata": {},
   "source": [
    "## Read query parameters"
   ]
  },
  {
   "cell_type": "code",
   "execution_count": 4,
   "id": "36b8f59f-5c04-48df-b6d2-3ff00d198aab",
   "metadata": {},
   "outputs": [],
   "source": [
    "def read_query_file(filename):\n",
    "    \"\"\"File query.yml parser.\n",
    "\n",
    "    This function parses the query file.\n",
    "\n",
    "    Parameters\n",
    "    ----------\n",
    "    filename : str\n",
    "        Filename for query parameters.\n",
    "    \n",
    "    Returns\n",
    "    -------\n",
    "    file_types : dict\n",
    "        Dictionary with type, engine, keywords to use and category\n",
    "    \"\"\"\n",
    "    with open(filename, \"r\") as param_file:\n",
    "        data_loaded = yaml.safe_load(param_file)\n",
    "    file_types = data_loaded[\"file_types\"]\n",
    "    return file_types"
   ]
  },
  {
   "cell_type": "code",
   "execution_count": 5,
   "id": "bc836189-67f9-407f-939c-593bc7508d38",
   "metadata": {},
   "outputs": [],
   "source": [
    "dico_file_types = read_query_file(\"../params/file_types.yml\")\n",
    "\n",
    "ext_gromacs = []\n",
    "ext_namd = []\n",
    "ext_amber = []\n",
    "ext_charmm = []\n",
    "\n",
    "list_coordinate = []\n",
    "list_trajectory = []\n",
    "list_topology = []\n",
    "\n",
    "for dico in dico_file_types:\n",
    "    if dico[\"engine\"] == \"gromacs\":\n",
    "        ext_gromacs.append(dico[\"type\"])\n",
    "    elif dico[\"engine\"] == \"namd\":\n",
    "        ext_namd.append(dico[\"type\"])\n",
    "    elif dico[\"engine\"] == \"amber\":\n",
    "        ext_amber.append(dico[\"type\"])\n",
    "    elif dico[\"engine\"] == \"charmm\":\n",
    "        ext_charmm.append(dico[\"type\"])\n",
    "\n",
    "    if dico[\"category\"] == \"coordinate\":\n",
    "        list_coordinate.append(dico[\"type\"])\n",
    "    elif dico[\"category\"] == \"topology\":\n",
    "        list_topology.append(dico[\"type\"])\n",
    "    elif dico[\"category\"] == \"trajectory\":\n",
    "        list_trajectory.append(dico[\"type\"])\n",
    "\n",
    "ext_all = ext_gromacs + ext_namd + ext_amber + ext_charmm\n",
    "        \n",
    "# The filetype \"top\" is included in both Gromacs and Amber. \n",
    "# And, the filetype \"prm\" is included in Namd and Amber.\n",
    "# But, to simplify the analyses, I consider that \"top\" is only a filetype of Gromacs and prm a filetype of Namd."
   ]
  },
  {
   "cell_type": "markdown",
   "id": "43324d15-85a8-4b96-8d5a-706a6068884c",
   "metadata": {},
   "source": [
    "## Assign MD engine per file"
   ]
  },
  {
   "cell_type": "code",
   "execution_count": 6,
   "id": "fc7e6a40-7825-4b62-aabb-e59a744a4597",
   "metadata": {},
   "outputs": [
    {
     "data": {
      "text/plain": [
       "None           383179\n",
       "GROMACS         58936\n",
       "NAMD/CHARMM      8111\n",
       "AMBER            7457\n",
       "Name: engine_MD, dtype: int64"
      ]
     },
     "execution_count": 6,
     "metadata": {},
     "output_type": "execute_result"
    }
   ],
   "source": [
    "def assign_md_engine(file_type):\n",
    "    \"\"\"Assign MD engine based on file type.\n",
    "    \n",
    "    Parameters\n",
    "    ----------\n",
    "    file_type : str\n",
    "        File extension.\n",
    "    \n",
    "    Returns\n",
    "    -------\n",
    "    str\n",
    "        Name of MD engine.\n",
    "    \"\"\"\n",
    "    if file_type in ext_gromacs:\n",
    "        return \"GROMACS\"\n",
    "    elif file_type in (ext_namd + ext_charmm):\n",
    "        return \"NAMD/CHARMM\"\n",
    "    elif file_type in ext_amber:\n",
    "        return \"AMBER\"\n",
    "    else:\n",
    "        return \"None\"\n",
    "\n",
    "df[\"engine_MD\"] = df[\"file_type\"].apply(assign_md_engine)\n",
    "df[\"engine_MD\"].value_counts()"
   ]
  },
  {
   "cell_type": "markdown",
   "id": "6f6405b8-89e7-4b3c-9964-0868fd363a44",
   "metadata": {},
   "source": [
    "## Assign file category"
   ]
  },
  {
   "cell_type": "code",
   "execution_count": 7,
   "id": "cbf52223-c4aa-4149-8e11-3c102e80e458",
   "metadata": {},
   "outputs": [
    {
     "data": {
      "text/plain": [
       "none          384456\n",
       "trajectory     35384\n",
       "topology       21996\n",
       "coordinate     15847\n",
       "Name: category, dtype: int64"
      ]
     },
     "execution_count": 7,
     "metadata": {},
     "output_type": "execute_result"
    }
   ],
   "source": [
    "def assign_file_category(file_type):\n",
    "    \"\"\"Assign file category based on file type.\n",
    "    \n",
    "    Parameters\n",
    "    ----------\n",
    "    file_type : str\n",
    "        File extension.\n",
    "    \n",
    "    Returns\n",
    "    -------\n",
    "    str\n",
    "        Category.\n",
    "    \"\"\"\n",
    "    if file_type in list_coordinate:\n",
    "        return \"coordinate\"\n",
    "    elif file_type in list_topology:\n",
    "        return \"topology\"\n",
    "    elif file_type in list_trajectory:\n",
    "        return \"trajectory\"\n",
    "    else:\n",
    "        return \"none\"\n",
    "\n",
    "df[\"category\"] = df[\"file_type\"].apply(assign_file_category)\n",
    "df[\"category\"].value_counts()"
   ]
  },
  {
   "cell_type": "markdown",
   "id": "01b1982a-1d19-4392-88ec-fc004514bcec",
   "metadata": {},
   "source": [
    "## Extract year from date"
   ]
  },
  {
   "cell_type": "code",
   "execution_count": 8,
   "id": "9f08eb39-675b-4075-9bb4-f82344ebe384",
   "metadata": {},
   "outputs": [],
   "source": [
    "df[\"year\"] = df[\"date_creation\"].apply(lambda x: int(x[:4]))"
   ]
  },
  {
   "cell_type": "markdown",
   "id": "21fb5023-0868-425f-ad4e-41e2cf00c5c5",
   "metadata": {},
   "source": [
    "## Count number of files per dataset (without zip content)"
   ]
  },
  {
   "cell_type": "code",
   "execution_count": 9,
   "id": "da786bf5-904e-4ef5-aca7-ea6225458abf",
   "metadata": {},
   "outputs": [
    {
     "data": {
      "text/html": [
       "<div>\n",
       "<style scoped>\n",
       "    .dataframe tbody tr th:only-of-type {\n",
       "        vertical-align: middle;\n",
       "    }\n",
       "\n",
       "    .dataframe tbody tr th {\n",
       "        vertical-align: top;\n",
       "    }\n",
       "\n",
       "    .dataframe thead th {\n",
       "        text-align: right;\n",
       "    }\n",
       "</style>\n",
       "<table border=\"1\" class=\"dataframe\">\n",
       "  <thead>\n",
       "    <tr style=\"text-align: right;\">\n",
       "      <th></th>\n",
       "      <th>file_nb</th>\n",
       "    </tr>\n",
       "  </thead>\n",
       "  <tbody>\n",
       "    <tr>\n",
       "      <th>count</th>\n",
       "      <td>2939.000000</td>\n",
       "    </tr>\n",
       "    <tr>\n",
       "      <th>mean</th>\n",
       "      <td>8.915958</td>\n",
       "    </tr>\n",
       "    <tr>\n",
       "      <th>std</th>\n",
       "      <td>38.092897</td>\n",
       "    </tr>\n",
       "    <tr>\n",
       "      <th>min</th>\n",
       "      <td>1.000000</td>\n",
       "    </tr>\n",
       "    <tr>\n",
       "      <th>25%</th>\n",
       "      <td>1.000000</td>\n",
       "    </tr>\n",
       "    <tr>\n",
       "      <th>50%</th>\n",
       "      <td>1.000000</td>\n",
       "    </tr>\n",
       "    <tr>\n",
       "      <th>75%</th>\n",
       "      <td>6.000000</td>\n",
       "    </tr>\n",
       "    <tr>\n",
       "      <th>max</th>\n",
       "      <td>962.000000</td>\n",
       "    </tr>\n",
       "  </tbody>\n",
       "</table>\n",
       "</div>"
      ],
      "text/plain": [
       "           file_nb\n",
       "count  2939.000000\n",
       "mean      8.915958\n",
       "std      38.092897\n",
       "min       1.000000\n",
       "25%       1.000000\n",
       "50%       1.000000\n",
       "75%       6.000000\n",
       "max     962.000000"
      ]
     },
     "execution_count": 9,
     "metadata": {},
     "output_type": "execute_result"
    }
   ],
   "source": [
    "(df\n",
    " .query(\"from_zip_file == False\")\n",
    " .groupby(\"dataset_id\")\n",
    " .agg({\"file_md5\": \"size\", \"dataset_url\":\"first\"})\n",
    " .rename(columns={\"file_md5\": \"file_nb\"})\n",
    " .describe()\n",
    ")"
   ]
  },
  {
   "cell_type": "markdown",
   "id": "5de03d63-a44a-426f-b4aa-e016ad62f401",
   "metadata": {},
   "source": [
    "Datasets with the most files:"
   ]
  },
  {
   "cell_type": "code",
   "execution_count": 10,
   "id": "ddbefa2c-86b4-498d-8e49-5173a47d7ec8",
   "metadata": {},
   "outputs": [
    {
     "data": {
      "text/html": [
       "<div>\n",
       "<style scoped>\n",
       "    .dataframe tbody tr th:only-of-type {\n",
       "        vertical-align: middle;\n",
       "    }\n",
       "\n",
       "    .dataframe tbody tr th {\n",
       "        vertical-align: top;\n",
       "    }\n",
       "\n",
       "    .dataframe thead th {\n",
       "        text-align: right;\n",
       "    }\n",
       "</style>\n",
       "<table border=\"1\" class=\"dataframe\">\n",
       "  <thead>\n",
       "    <tr style=\"text-align: right;\">\n",
       "      <th></th>\n",
       "      <th>file_nb</th>\n",
       "      <th>dataset_url</th>\n",
       "    </tr>\n",
       "    <tr>\n",
       "      <th>dataset_id</th>\n",
       "      <th></th>\n",
       "      <th></th>\n",
       "    </tr>\n",
       "  </thead>\n",
       "  <tbody>\n",
       "    <tr>\n",
       "      <th>uv5jy</th>\n",
       "      <td>962</td>\n",
       "      <td>https://osf.io/uv5jy/</td>\n",
       "    </tr>\n",
       "    <tr>\n",
       "      <th>75xuy</th>\n",
       "      <td>937</td>\n",
       "      <td>https://osf.io/75xuy/</td>\n",
       "    </tr>\n",
       "    <tr>\n",
       "      <th>4056037</th>\n",
       "      <td>800</td>\n",
       "      <td>https://zenodo.org/record/4056037</td>\n",
       "    </tr>\n",
       "    <tr>\n",
       "      <th>p3gsq</th>\n",
       "      <td>533</td>\n",
       "      <td>https://osf.io/p3gsq/</td>\n",
       "    </tr>\n",
       "    <tr>\n",
       "      <th>6501952</th>\n",
       "      <td>530</td>\n",
       "      <td>https://zenodo.org/record/6501952</td>\n",
       "    </tr>\n",
       "    <tr>\n",
       "      <th>i725h</th>\n",
       "      <td>344</td>\n",
       "      <td>https://osf.io/i725h/</td>\n",
       "    </tr>\n",
       "    <tr>\n",
       "      <th>825048</th>\n",
       "      <td>332</td>\n",
       "      <td>https://zenodo.org/record/825048</td>\n",
       "    </tr>\n",
       "    <tr>\n",
       "      <th>6h2z5</th>\n",
       "      <td>249</td>\n",
       "      <td>https://osf.io/6h2z5/</td>\n",
       "    </tr>\n",
       "    <tr>\n",
       "      <th>82n73</th>\n",
       "      <td>240</td>\n",
       "      <td>https://osf.io/82n73/</td>\n",
       "    </tr>\n",
       "    <tr>\n",
       "      <th>y9aph</th>\n",
       "      <td>235</td>\n",
       "      <td>https://osf.io/y9aph/</td>\n",
       "    </tr>\n",
       "  </tbody>\n",
       "</table>\n",
       "</div>"
      ],
      "text/plain": [
       "            file_nb                        dataset_url\n",
       "dataset_id                                            \n",
       "uv5jy           962              https://osf.io/uv5jy/\n",
       "75xuy           937              https://osf.io/75xuy/\n",
       "4056037         800  https://zenodo.org/record/4056037\n",
       "p3gsq           533              https://osf.io/p3gsq/\n",
       "6501952         530  https://zenodo.org/record/6501952\n",
       "i725h           344              https://osf.io/i725h/\n",
       "825048          332   https://zenodo.org/record/825048\n",
       "6h2z5           249              https://osf.io/6h2z5/\n",
       "82n73           240              https://osf.io/82n73/\n",
       "y9aph           235              https://osf.io/y9aph/"
      ]
     },
     "execution_count": 10,
     "metadata": {},
     "output_type": "execute_result"
    }
   ],
   "source": [
    "(df\n",
    " .query(\"from_zip_file == False\")\n",
    " .groupby(\"dataset_id\")\n",
    " .agg({\"file_md5\": \"size\", \"dataset_url\":\"first\"})\n",
    " .rename(columns={\"file_md5\": \"file_nb\"})\n",
    " .sort_values(by=[\"file_nb\"], ascending=False)\n",
    " .head(10)\n",
    ")"
   ]
  },
  {
   "cell_type": "markdown",
   "id": "47f3a29e-320d-4a09-bda6-eab4fded2bf7",
   "metadata": {},
   "source": [
    "## Count number of files per dataset (with zip content)"
   ]
  },
  {
   "cell_type": "code",
   "execution_count": 11,
   "id": "26344c3a-1c07-4240-b9d8-fa5cb95366bf",
   "metadata": {},
   "outputs": [
    {
     "data": {
      "text/html": [
       "<div>\n",
       "<style scoped>\n",
       "    .dataframe tbody tr th:only-of-type {\n",
       "        vertical-align: middle;\n",
       "    }\n",
       "\n",
       "    .dataframe tbody tr th {\n",
       "        vertical-align: top;\n",
       "    }\n",
       "\n",
       "    .dataframe thead th {\n",
       "        text-align: right;\n",
       "    }\n",
       "</style>\n",
       "<table border=\"1\" class=\"dataframe\">\n",
       "  <thead>\n",
       "    <tr style=\"text-align: right;\">\n",
       "      <th></th>\n",
       "      <th>file_nb</th>\n",
       "    </tr>\n",
       "  </thead>\n",
       "  <tbody>\n",
       "    <tr>\n",
       "      <th>count</th>\n",
       "      <td>2926.000000</td>\n",
       "    </tr>\n",
       "    <tr>\n",
       "      <th>mean</th>\n",
       "      <td>155.323650</td>\n",
       "    </tr>\n",
       "    <tr>\n",
       "      <th>std</th>\n",
       "      <td>2621.738929</td>\n",
       "    </tr>\n",
       "    <tr>\n",
       "      <th>min</th>\n",
       "      <td>1.000000</td>\n",
       "    </tr>\n",
       "    <tr>\n",
       "      <th>25%</th>\n",
       "      <td>2.000000</td>\n",
       "    </tr>\n",
       "    <tr>\n",
       "      <th>50%</th>\n",
       "      <td>9.000000</td>\n",
       "    </tr>\n",
       "    <tr>\n",
       "      <th>75%</th>\n",
       "      <td>29.000000</td>\n",
       "    </tr>\n",
       "    <tr>\n",
       "      <th>max</th>\n",
       "      <td>138235.000000</td>\n",
       "    </tr>\n",
       "  </tbody>\n",
       "</table>\n",
       "</div>"
      ],
      "text/plain": [
       "             file_nb\n",
       "count    2926.000000\n",
       "mean      155.323650\n",
       "std      2621.738929\n",
       "min         1.000000\n",
       "25%         2.000000\n",
       "50%         9.000000\n",
       "75%        29.000000\n",
       "max    138235.000000"
      ]
     },
     "execution_count": 11,
     "metadata": {},
     "output_type": "execute_result"
    }
   ],
   "source": [
    "(df\n",
    " .query(\"file_type != 'zip'\")\n",
    " .groupby(\"dataset_id\")\n",
    " .agg({\"file_md5\": \"size\", \"dataset_url\":\"first\"})\n",
    " .rename(columns={\"file_md5\": \"file_nb\"})\n",
    " .describe()\n",
    ")"
   ]
  },
  {
   "cell_type": "markdown",
   "id": "23c71868-bb62-4799-aa60-21809e3902eb",
   "metadata": {},
   "source": [
    "Datasets with the most files:"
   ]
  },
  {
   "cell_type": "code",
   "execution_count": 12,
   "id": "7b9228df-e59f-42e7-81b7-e73c2b55224b",
   "metadata": {},
   "outputs": [
    {
     "data": {
      "text/html": [
       "<div>\n",
       "<style scoped>\n",
       "    .dataframe tbody tr th:only-of-type {\n",
       "        vertical-align: middle;\n",
       "    }\n",
       "\n",
       "    .dataframe tbody tr th {\n",
       "        vertical-align: top;\n",
       "    }\n",
       "\n",
       "    .dataframe thead th {\n",
       "        text-align: right;\n",
       "    }\n",
       "</style>\n",
       "<table border=\"1\" class=\"dataframe\">\n",
       "  <thead>\n",
       "    <tr style=\"text-align: right;\">\n",
       "      <th></th>\n",
       "      <th>file_nb</th>\n",
       "      <th>dataset_url</th>\n",
       "    </tr>\n",
       "    <tr>\n",
       "      <th>dataset_id</th>\n",
       "      <th></th>\n",
       "      <th></th>\n",
       "    </tr>\n",
       "  </thead>\n",
       "  <tbody>\n",
       "    <tr>\n",
       "      <th>14625564</th>\n",
       "      <td>138235</td>\n",
       "      <td>https://api.figshare.com/v2/articles/14625564</td>\n",
       "    </tr>\n",
       "    <tr>\n",
       "      <th>6477772</th>\n",
       "      <td>12030</td>\n",
       "      <td>https://zenodo.org/record/6477772</td>\n",
       "    </tr>\n",
       "    <tr>\n",
       "      <th>14101790</th>\n",
       "      <td>11736</td>\n",
       "      <td>https://api.figshare.com/v2/articles/14101790</td>\n",
       "    </tr>\n",
       "    <tr>\n",
       "      <th>14923348</th>\n",
       "      <td>10449</td>\n",
       "      <td>https://api.figshare.com/v2/articles/14923348</td>\n",
       "    </tr>\n",
       "    <tr>\n",
       "      <th>1356347</th>\n",
       "      <td>10308</td>\n",
       "      <td>https://api.figshare.com/v2/articles/1356347</td>\n",
       "    </tr>\n",
       "  </tbody>\n",
       "</table>\n",
       "</div>"
      ],
      "text/plain": [
       "            file_nb                                    dataset_url\n",
       "dataset_id                                                        \n",
       "14625564     138235  https://api.figshare.com/v2/articles/14625564\n",
       "6477772       12030              https://zenodo.org/record/6477772\n",
       "14101790      11736  https://api.figshare.com/v2/articles/14101790\n",
       "14923348      10449  https://api.figshare.com/v2/articles/14923348\n",
       "1356347       10308   https://api.figshare.com/v2/articles/1356347"
      ]
     },
     "execution_count": 12,
     "metadata": {},
     "output_type": "execute_result"
    }
   ],
   "source": [
    "(df\n",
    " .query(\"file_type != 'zip'\")\n",
    " .groupby(\"dataset_id\")\n",
    " .agg({\"file_md5\": \"size\", \"dataset_url\":\"first\"})\n",
    " .rename(columns={\"file_md5\": \"file_nb\"})\n",
    " .sort_values(by=[\"file_nb\"], ascending=False)\n",
    " .head()\n",
    ")"
   ]
  },
  {
   "cell_type": "markdown",
   "id": "ccf3741f-f843-46f4-881b-e3a8cd351d0e",
   "metadata": {
    "tags": []
   },
   "source": [
    "## Total size of all files with zip files\n",
    "\n",
    "In TB, zip files included, zip files content excluded."
   ]
  },
  {
   "cell_type": "code",
   "execution_count": 13,
   "id": "26a09283-6473-4b13-a0d4-bc11b378d7c4",
   "metadata": {},
   "outputs": [
    {
     "data": {
      "text/plain": [
       "11.032259026069"
      ]
     },
     "execution_count": 13,
     "metadata": {},
     "output_type": "execute_result"
    }
   ],
   "source": [
    "(df\n",
    " .query(\"from_zip_file == False\")\n",
    " .loc[:, \"file_size\"]\n",
    " .sum()/10**12\n",
    ")"
   ]
  },
  {
   "cell_type": "markdown",
   "id": "934fbd4a-ff55-41c7-a3b0-8731616cf42e",
   "metadata": {},
   "source": [
    "Total size, in TB, per dataset origin, zip files content excluded."
   ]
  },
  {
   "cell_type": "code",
   "execution_count": 14,
   "id": "baa31020-4c34-4e59-9597-41d0b75d0f4a",
   "metadata": {},
   "outputs": [
    {
     "data": {
      "text/plain": [
       "dataset_origin\n",
       "figshare    0.798511\n",
       "osf         0.338101\n",
       "zenodo      9.895647\n",
       "Name: file_size, dtype: float64"
      ]
     },
     "execution_count": 14,
     "metadata": {},
     "output_type": "execute_result"
    }
   ],
   "source": [
    "(df\n",
    " .query(\"from_zip_file == False\")\n",
    " .groupby(\"dataset_origin\")[\"file_size\"]\n",
    " .sum()/10**12\n",
    ")"
   ]
  },
  {
   "cell_type": "markdown",
   "id": "6a27be71-b877-47d3-972c-09fe832df236",
   "metadata": {},
   "source": [
    "## Total size of all files without zip files\n",
    "\n",
    "In TB, zip files excluded, zip files content included.\n",
    "\n",
    "This is the most realistic size."
   ]
  },
  {
   "cell_type": "code",
   "execution_count": 15,
   "id": "c19ced2f-eeb9-4565-bb69-648541fa0f8e",
   "metadata": {},
   "outputs": [
    {
     "data": {
      "text/plain": [
       "10.658726363774"
      ]
     },
     "execution_count": 15,
     "metadata": {},
     "output_type": "execute_result"
    }
   ],
   "source": [
    "(df\n",
    " .query(\"file_type != 'zip'\")\n",
    " .loc[:, \"file_size\"]\n",
    " .sum()/10**12\n",
    ")"
   ]
  },
  {
   "cell_type": "markdown",
   "id": "57d88b4d-e4e7-4420-9a42-af3213ad689e",
   "metadata": {},
   "source": [
    "## Remove zip files\n",
    "\n",
    "We remove zip files but keep not their content."
   ]
  },
  {
   "cell_type": "code",
   "execution_count": 16,
   "id": "83ff0ff7-42a0-419d-9bb3-2961f6994ee5",
   "metadata": {},
   "outputs": [
    {
     "name": "stdout",
     "output_type": "stream",
     "text": [
      "Remove 44 zip files.\n"
     ]
    }
   ],
   "source": [
    "files_nb_before = tab.shape[0]\n",
    "tab = tab[tab[\"file_type\"] != \"zip\"]\n",
    "print(f\"Remove {files_nb_before - tab.shape[0]} zip files.\")"
   ]
  },
  {
   "cell_type": "markdown",
   "id": "bcb23400-bbe3-4afb-8904-273a8e8374c7",
   "metadata": {},
   "source": [
    "## Average number of files per dataset"
   ]
  },
  {
   "cell_type": "code",
   "execution_count": 17,
   "id": "4a71c079-c421-4bf2-9a58-9138eca212a9",
   "metadata": {},
   "outputs": [
    {
     "name": "stdout",
     "output_type": "stream",
     "text": [
      "A dataset contains on average 156 files.\n"
     ]
    }
   ],
   "source": [
    "print(f\"A dataset contains on average {df.groupby(['dataset_id'])['file_md5'].size().mean():.0f} files.\")"
   ]
  },
  {
   "cell_type": "markdown",
   "id": "056aab8e-8cf0-478f-bc26-149c1a8c6771",
   "metadata": {},
   "source": [
    "## Analysis"
   ]
  },
  {
   "cell_type": "markdown",
   "id": "1b121061-42af-48f6-b318-427f6bcf8389",
   "metadata": {},
   "source": [
    "### Number of files per MD engine"
   ]
  },
  {
   "cell_type": "code",
   "execution_count": 18,
   "id": "70a19797-0ffe-43ad-a019-c956da8a204c",
   "metadata": {},
   "outputs": [
    {
     "data": {
      "image/png": "[encoded data removed]",
      "text/plain": [
       "<Figure size 720x504 with 1 Axes>"
      ]
     },
     "metadata": {
      "needs_background": "light"
     },
     "output_type": "display_data"
    }
   ],
   "source": [
    "plt.rcParams.update({'font.size': 20})\n",
    "(df\n",
    " .loc[:, \"engine_MD\"]\n",
    " .value_counts()\n",
    " .sort_index()\n",
    " .plot(kind=\"bar\", color=[\"tab:blue\", \"tab:orange\", \"tab:green\", \"tab:purple\"], figsize=(10,7))\n",
    ")\n",
    "plt.xlabel(\"MD engine\")\n",
    "plt.xticks(rotation=0)\n",
    "plt.ylabel(\"Number of files\")\n",
    "plt.savefig(\"number_of_files_per_MD_engine.png\", dpi=300, bbox_inches=\"tight\")\n",
    "plt.savefig(\"number_of_files_per_MD_engine.svg\", bbox_inches=\"tight\")"
   ]
  },
  {
   "cell_type": "markdown",
   "id": "683c2cf4-2410-4232-8f3a-2967b6621d85",
   "metadata": {},
   "source": [
    "#### Number of datasets per years"
   ]
  },
  {
   "cell_type": "code",
   "execution_count": 19,
   "id": "91fc0a13-d37a-481d-b88b-1b2d5a6c06f3",
   "metadata": {},
   "outputs": [
    {
     "data": {
      "image/png": "[encoded data removed]",
      "text/plain": [
       "<Figure size 864x504 with 1 Axes>"
      ]
     },
     "metadata": {
      "needs_background": "light"
     },
     "output_type": "display_data"
    }
   ],
   "source": [
    "plt.rcParams.update({'font.size': 20})\n",
    "(df\n",
    " .query(\"year != 2022\")\n",
    " .query(\"year >= 2012\")\n",
    " .groupby([\"year\"])[\"dataset_id\"]\n",
    " .nunique()\n",
    " .plot(kind=\"bar\", figsize=(12,7))\n",
    ")\n",
    "plt.xlabel(\"Years\")\n",
    "plt.xticks(rotation=0)\n",
    "plt.ylabel(\"Number of datasets\")\n",
    "plt.savefig(\"number_of_datasets_per_years.png\", dpi=300, bbox_inches=\"tight\")\n",
    "plt.savefig(\"number_of_datasets_per_years.svg\", bbox_inches=\"tight\")"
   ]
  },
  {
   "cell_type": "markdown",
   "id": "dfb04443-2a86-4eeb-bdc4-41c25dcf4ed8",
   "metadata": {},
   "source": [
    "### Number of files per years"
   ]
  },
  {
   "cell_type": "code",
   "execution_count": 20,
   "id": "5f26f233-9e83-4a87-a260-6a4bfcc829b3",
   "metadata": {},
   "outputs": [
    {
     "data": {
      "image/png": "[encoded data removed]",
      "text/plain": [
       "<Figure size 864x504 with 1 Axes>"
      ]
     },
     "metadata": {
      "needs_background": "light"
     },
     "output_type": "display_data"
    }
   ],
   "source": [
    "plt.rcParams.update({'font.size': 20})\n",
    "(df\n",
    " .query(\"year != 2022\")\n",
    " .query(\"year >= 2012\")\n",
    " .loc[:, \"year\"]\n",
    " .value_counts()\n",
    " .sort_index()\n",
    " .plot(kind=\"bar\", figsize=(12,7))\n",
    ")\n",
    "plt.xlabel(\"Years\")\n",
    "plt.xticks(rotation=0)\n",
    "plt.ylabel(\"Number of files\")\n",
    "plt.savefig(\"number_of_files_per_years.png\", dpi=300, bbox_inches=\"tight\")\n",
    "plt.savefig(\"number_of_files_per_years.svg\", bbox_inches=\"tight\")"
   ]
  },
  {
   "cell_type": "code",
   "execution_count": 21,
   "id": "c8ee572b-356c-442a-8c7d-4139d8759652",
   "metadata": {},
   "outputs": [
    {
     "data": {
      "image/png": "[encoded data removed]",
      "text/plain": [
       "<Figure size 864x504 with 1 Axes>"
      ]
     },
     "metadata": {
      "needs_background": "light"
     },
     "output_type": "display_data"
    }
   ],
   "source": [
    "plt.rcParams.update({'font.size': 20})\n",
    "(df\n",
    " .query(\"year != 2022\")\n",
    " .query(\"year >= 2012\")\n",
    " .groupby([\"year\", \"dataset_origin\"])\n",
    " .size().unstack()\n",
    " .plot(kind=\"bar\", stacked=True, figsize=(12,7))\n",
    ")\n",
    "plt.xlabel(\"Years\")\n",
    "plt.xticks(rotation=0)\n",
    "plt.ylabel(\"Number of files\")\n",
    "plt.legend(title=\"Data repositories\")\n",
    "plt.savefig(\"number_of_files_per_years_per_dataset_origin.png\", dpi=300, bbox_inches=\"tight\")\n",
    "plt.savefig(\"number_of_files_per_years_per_dataset_origin.svg\", bbox_inches=\"tight\")"
   ]
  },
  {
   "cell_type": "markdown",
   "id": "e9cb3815-281a-419c-909c-6368c5d57c28",
   "metadata": {},
   "source": [
    "### Number of files per filetype\n",
    "\n",
    "For files not associated to any MD engine."
   ]
  },
  {
   "cell_type": "code",
   "execution_count": 22,
   "id": "e984e183-d80a-41d3-af66-ed0c6c5346a1",
   "metadata": {},
   "outputs": [
    {
     "data": {
      "image/png": "[encoded data removed]",
      "text/plain": [
       "<Figure size 720x504 with 1 Axes>"
      ]
     },
     "metadata": {
      "needs_background": "light"
     },
     "output_type": "display_data"
    }
   ],
   "source": [
    "plt.rcParams.update({'font.size': 20})\n",
    "(df\n",
    " .query(\"engine_MD == 'None'\")\n",
    " .loc[:, \"file_type\"]\n",
    " .value_counts()\n",
    " .head(n=10)\n",
    " .plot(kind=\"bar\", color=\"tab:purple\", figsize=(10,7))\n",
    ")\n",
    "plt.xlabel(\"File type\")\n",
    "plt.xticks(rotation=0)\n",
    "plt.ylabel(\"Number of files\")\n",
    "plt.savefig(\"number_of_files_per_filetype_no_MD_engine.png\", dpi=300, bbox_inches=\"tight\")\n",
    "plt.savefig(\"number_of_files_per_filetype_no_MD_engine.svg\", bbox_inches=\"tight\")"
   ]
  },
  {
   "cell_type": "markdown",
   "id": "5a0325a5-70cd-4d59-86c4-8ac307741194",
   "metadata": {},
   "source": [
    "### File size per year\n",
    "\n",
    "- in TB\n",
    "- In Zenodo, individual file size cannot go above 50 GB (see [FAQ](https://help.zenodo.org/))."
   ]
  },
  {
   "cell_type": "code",
   "execution_count": 23,
   "id": "d7e6f26a-7fdf-445b-9e5e-8dde566466f4",
   "metadata": {},
   "outputs": [
    {
     "data": {
      "text/plain": [
       "year\n",
       "2006    0.000067\n",
       "2009    0.000002\n",
       "2010    0.000003\n",
       "2012    0.000087\n",
       "2013    0.000574\n",
       "2014    0.020590\n",
       "2015    0.218137\n",
       "2016    0.200278\n",
       "2017    1.223737\n",
       "2018    1.821299\n",
       "2019    1.952809\n",
       "2020    3.260981\n",
       "2021    2.942849\n",
       "2022    1.623287\n",
       "Name: file_size, dtype: float64"
      ]
     },
     "execution_count": 23,
     "metadata": {},
     "output_type": "execute_result"
    }
   ],
   "source": [
    "(df.groupby([\"year\"])[\"file_size\"].sum()/10**12)"
   ]
  }
 ],
 "metadata": {
  "kernelspec": {
   "display_name": "Python 3 (ipykernel)",
   "language": "python",
   "name": "python3"
  },
  "language_info": {
   "codemirror_mode": {
    "name": "ipython",
    "version": 3
   },
   "file_extension": ".py",
   "mimetype": "text/x-python",
   "name": "python",
   "nbconvert_exporter": "python",
   "pygments_lexer": "ipython3",
   "version": "3.9.13"
  }
 },
 "nbformat": 4,
 "nbformat_minor": 5
}

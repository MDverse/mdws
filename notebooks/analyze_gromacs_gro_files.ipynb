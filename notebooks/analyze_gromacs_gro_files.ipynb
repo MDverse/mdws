{
 "cells": [
  {
   "cell_type": "markdown",
   "id": "6b2c4c41-3f9b-485d-bda6-100fcc0c06ef",
   "metadata": {},
   "source": [
    "# Analyze Gromacs gro files\n",
    "\n",
    "## Import packages"
   ]
  },
  {
   "cell_type": "code",
   "execution_count": 1,
   "id": "c35901b9-e209-498c-8ce7-2a36042befa6",
   "metadata": {},
   "outputs": [],
   "source": [
    "import matplotlib.pyplot as plt\n",
    "import numpy as np\n",
    "import pandas as pd\n",
    "from upsetplot import UpSet  # https://upsetplot.readthedocs.io/en/stable/index.html\n",
    "import yaml\n",
    "\n",
    "# Update font size for graphics\n",
    "plt.rcParams.update({'font.size': 20})"
   ]
  },
  {
   "cell_type": "markdown",
   "id": "1a470891-de8c-41d1-9680-2828088f5727",
   "metadata": {},
   "source": [
    "## Load data"
   ]
  },
  {
   "cell_type": "code",
   "execution_count": 2,
   "id": "7a2dd4e7-9d17-44e5-8fa4-7f5e69cd57f6",
   "metadata": {},
   "outputs": [
    {
     "name": "stdout",
     "output_type": "stream",
     "text": [
      "(9005, 9)\n"
     ]
    },
    {
     "data": {
      "text/html": [
       "<div>\n",
       "<style scoped>\n",
       "    .dataframe tbody tr th:only-of-type {\n",
       "        vertical-align: middle;\n",
       "    }\n",
       "\n",
       "    .dataframe tbody tr th {\n",
       "        vertical-align: top;\n",
       "    }\n",
       "\n",
       "    .dataframe thead th {\n",
       "        text-align: right;\n",
       "    }\n",
       "</style>\n",
       "<table border=\"1\" class=\"dataframe\">\n",
       "  <thead>\n",
       "    <tr style=\"text-align: right;\">\n",
       "      <th></th>\n",
       "      <th>dataset_origin</th>\n",
       "      <th>dataset_id</th>\n",
       "      <th>atom_number</th>\n",
       "      <th>has_protein</th>\n",
       "      <th>has_nucleic</th>\n",
       "      <th>has_lipid</th>\n",
       "      <th>has_water_ion</th>\n",
       "      <th>has_glucid</th>\n",
       "      <th>filename</th>\n",
       "    </tr>\n",
       "  </thead>\n",
       "  <tbody>\n",
       "    <tr>\n",
       "      <th>0</th>\n",
       "      <td>osf</td>\n",
       "      <td>6fuqs</td>\n",
       "      <td>3468</td>\n",
       "      <td>True</td>\n",
       "      <td>False</td>\n",
       "      <td>False</td>\n",
       "      <td>False</td>\n",
       "      <td>False</td>\n",
       "      <td>Trajectories/4_su.gro</td>\n",
       "    </tr>\n",
       "    <tr>\n",
       "      <th>1</th>\n",
       "      <td>osf</td>\n",
       "      <td>6fuqs</td>\n",
       "      <td>3468</td>\n",
       "      <td>True</td>\n",
       "      <td>False</td>\n",
       "      <td>False</td>\n",
       "      <td>False</td>\n",
       "      <td>False</td>\n",
       "      <td>Trajectories/6_su.gro</td>\n",
       "    </tr>\n",
       "    <tr>\n",
       "      <th>2</th>\n",
       "      <td>osf</td>\n",
       "      <td>6fuqs</td>\n",
       "      <td>3468</td>\n",
       "      <td>True</td>\n",
       "      <td>False</td>\n",
       "      <td>False</td>\n",
       "      <td>False</td>\n",
       "      <td>False</td>\n",
       "      <td>Trajectories/3_su.gro</td>\n",
       "    </tr>\n",
       "    <tr>\n",
       "      <th>3</th>\n",
       "      <td>osf</td>\n",
       "      <td>6fuqs</td>\n",
       "      <td>3468</td>\n",
       "      <td>True</td>\n",
       "      <td>False</td>\n",
       "      <td>False</td>\n",
       "      <td>False</td>\n",
       "      <td>False</td>\n",
       "      <td>Trajectories/8_su.gro</td>\n",
       "    </tr>\n",
       "    <tr>\n",
       "      <th>4</th>\n",
       "      <td>osf</td>\n",
       "      <td>6fuqs</td>\n",
       "      <td>3468</td>\n",
       "      <td>True</td>\n",
       "      <td>False</td>\n",
       "      <td>False</td>\n",
       "      <td>False</td>\n",
       "      <td>False</td>\n",
       "      <td>Trajectories/2_su.gro</td>\n",
       "    </tr>\n",
       "  </tbody>\n",
       "</table>\n",
       "</div>"
      ],
      "text/plain": [
       "  dataset_origin dataset_id  atom_number  has_protein  has_nucleic  has_lipid  \\\n",
       "0            osf      6fuqs         3468         True        False      False   \n",
       "1            osf      6fuqs         3468         True        False      False   \n",
       "2            osf      6fuqs         3468         True        False      False   \n",
       "3            osf      6fuqs         3468         True        False      False   \n",
       "4            osf      6fuqs         3468         True        False      False   \n",
       "\n",
       "   has_water_ion  has_glucid               filename  \n",
       "0          False       False  Trajectories/4_su.gro  \n",
       "1          False       False  Trajectories/6_su.gro  \n",
       "2          False       False  Trajectories/3_su.gro  \n",
       "3          False       False  Trajectories/8_su.gro  \n",
       "4          False       False  Trajectories/2_su.gro  "
      ]
     },
     "execution_count": 2,
     "metadata": {},
     "output_type": "execute_result"
    }
   ],
   "source": [
    "gro_df = pd.read_csv(\"../data/gromacs_gro_files_info.tsv\", sep=\"\\t\")\n",
    "print(gro_df.shape)\n",
    "gro_df.head()"
   ]
  },
  {
   "cell_type": "markdown",
   "id": "f320c022-1964-4218-a758-d40cb549bb3b",
   "metadata": {},
   "source": [
    "## GRO files\n",
    "\n",
    "### Proteins, lipids and nucleic acids"
   ]
  },
  {
   "cell_type": "code",
   "execution_count": 3,
   "id": "ec545920-4b9c-4738-beed-fdde154bbf40",
   "metadata": {},
   "outputs": [
    {
     "name": "stdout",
     "output_type": "stream",
     "text": [
      "Total number of gro files analyzed: 9005\n",
      "Number of gro files with protein: 4259\n",
      "Number of gro files with lipid: 4502\n",
      "Number of gro files with nucleic acid: 1216\n",
      "Number of gro files with protein and lipid: 2728\n",
      "Number of gro files with protein and nucleic acid: 91\n",
      "Number of gro files with lipid and nucleic acid: 0\n"
     ]
    }
   ],
   "source": [
    "print(f\"Total number of gro files analyzed: {gro_df.shape[0]}\")\n",
    "print(f\"Number of gro files with protein: {gro_df.query('has_protein==True').shape[0]}\")\n",
    "print(f\"Number of gro files with lipid: {gro_df.query('has_lipid==True').shape[0]}\")\n",
    "print(f\"Number of gro files with nucleic acid: {gro_df.query('has_nucleic==True').shape[0]}\")\n",
    "print(f\"Number of gro files with protein and lipid: {gro_df.query('has_protein==True').query('has_lipid==True').shape[0]}\")\n",
    "print(f\"Number of gro files with protein and nucleic acid: {gro_df.query('has_protein==True').query('has_nucleic==True').shape[0]}\")\n",
    "print(f\"Number of gro files with lipid and nucleic acid: {gro_df.query('has_lipid==True').query('has_nucleic==True').shape[0]}\")"
   ]
  },
  {
   "cell_type": "code",
   "execution_count": 4,
   "id": "73fb4358-73a1-4708-b232-b963c1516abc",
   "metadata": {},
   "outputs": [
    {
     "data": {
      "text/html": [
       "<div>\n",
       "<style scoped>\n",
       "    .dataframe tbody tr th:only-of-type {\n",
       "        vertical-align: middle;\n",
       "    }\n",
       "\n",
       "    .dataframe tbody tr th {\n",
       "        vertical-align: top;\n",
       "    }\n",
       "\n",
       "    .dataframe thead th {\n",
       "        text-align: right;\n",
       "    }\n",
       "</style>\n",
       "<table border=\"1\" class=\"dataframe\">\n",
       "  <thead>\n",
       "    <tr style=\"text-align: right;\">\n",
       "      <th></th>\n",
       "      <th>dataset_origin</th>\n",
       "      <th>dataset_id</th>\n",
       "      <th>atom_number</th>\n",
       "      <th>has_protein</th>\n",
       "      <th>has_nucleic</th>\n",
       "      <th>has_lipid</th>\n",
       "      <th>has_water_ion</th>\n",
       "      <th>has_glucid</th>\n",
       "      <th>filename</th>\n",
       "    </tr>\n",
       "  </thead>\n",
       "  <tbody>\n",
       "    <tr>\n",
       "      <th>74</th>\n",
       "      <td>osf</td>\n",
       "      <td>gwem8</td>\n",
       "      <td>780</td>\n",
       "      <td>False</td>\n",
       "      <td>False</td>\n",
       "      <td>False</td>\n",
       "      <td>False</td>\n",
       "      <td>False</td>\n",
       "      <td>non-polar oil cluster (30 octane molecules).gro</td>\n",
       "    </tr>\n",
       "    <tr>\n",
       "      <th>75</th>\n",
       "      <td>osf</td>\n",
       "      <td>gwem8</td>\n",
       "      <td>18905</td>\n",
       "      <td>False</td>\n",
       "      <td>False</td>\n",
       "      <td>False</td>\n",
       "      <td>False</td>\n",
       "      <td>False</td>\n",
       "      <td>kerogen slab.gro</td>\n",
       "    </tr>\n",
       "    <tr>\n",
       "      <th>76</th>\n",
       "      <td>osf</td>\n",
       "      <td>gwem8</td>\n",
       "      <td>8100</td>\n",
       "      <td>False</td>\n",
       "      <td>False</td>\n",
       "      <td>False</td>\n",
       "      <td>False</td>\n",
       "      <td>False</td>\n",
       "      <td>calcite (104).gro</td>\n",
       "    </tr>\n",
       "    <tr>\n",
       "      <th>96</th>\n",
       "      <td>osf</td>\n",
       "      <td>yfstw</td>\n",
       "      <td>30</td>\n",
       "      <td>False</td>\n",
       "      <td>False</td>\n",
       "      <td>False</td>\n",
       "      <td>False</td>\n",
       "      <td>False</td>\n",
       "      <td>gros/LIP2.gro</td>\n",
       "    </tr>\n",
       "    <tr>\n",
       "      <th>97</th>\n",
       "      <td>osf</td>\n",
       "      <td>yfstw</td>\n",
       "      <td>12</td>\n",
       "      <td>False</td>\n",
       "      <td>False</td>\n",
       "      <td>False</td>\n",
       "      <td>False</td>\n",
       "      <td>False</td>\n",
       "      <td>gros/C55P.gro</td>\n",
       "    </tr>\n",
       "    <tr>\n",
       "      <th>...</th>\n",
       "      <td>...</td>\n",
       "      <td>...</td>\n",
       "      <td>...</td>\n",
       "      <td>...</td>\n",
       "      <td>...</td>\n",
       "      <td>...</td>\n",
       "      <td>...</td>\n",
       "      <td>...</td>\n",
       "      <td>...</td>\n",
       "    </tr>\n",
       "    <tr>\n",
       "      <th>8999</th>\n",
       "      <td>figshare</td>\n",
       "      <td>2527738</td>\n",
       "      <td>82</td>\n",
       "      <td>False</td>\n",
       "      <td>False</td>\n",
       "      <td>False</td>\n",
       "      <td>False</td>\n",
       "      <td>False</td>\n",
       "      <td>hpo0.gro</td>\n",
       "    </tr>\n",
       "    <tr>\n",
       "      <th>9000</th>\n",
       "      <td>figshare</td>\n",
       "      <td>2527738</td>\n",
       "      <td>80</td>\n",
       "      <td>False</td>\n",
       "      <td>False</td>\n",
       "      <td>False</td>\n",
       "      <td>False</td>\n",
       "      <td>False</td>\n",
       "      <td>hpo2.gro</td>\n",
       "    </tr>\n",
       "    <tr>\n",
       "      <th>9002</th>\n",
       "      <td>figshare</td>\n",
       "      <td>11569452</td>\n",
       "      <td>142</td>\n",
       "      <td>False</td>\n",
       "      <td>False</td>\n",
       "      <td>False</td>\n",
       "      <td>False</td>\n",
       "      <td>False</td>\n",
       "      <td>md_files/n-cage/conf.gro</td>\n",
       "    </tr>\n",
       "    <tr>\n",
       "      <th>9003</th>\n",
       "      <td>figshare</td>\n",
       "      <td>11569452</td>\n",
       "      <td>5036</td>\n",
       "      <td>False</td>\n",
       "      <td>False</td>\n",
       "      <td>False</td>\n",
       "      <td>False</td>\n",
       "      <td>False</td>\n",
       "      <td>md_files/c-cage/solvated.gro</td>\n",
       "    </tr>\n",
       "    <tr>\n",
       "      <th>9004</th>\n",
       "      <td>figshare</td>\n",
       "      <td>11569452</td>\n",
       "      <td>146</td>\n",
       "      <td>False</td>\n",
       "      <td>False</td>\n",
       "      <td>False</td>\n",
       "      <td>False</td>\n",
       "      <td>False</td>\n",
       "      <td>md_files/c-cage/conf.gro</td>\n",
       "    </tr>\n",
       "  </tbody>\n",
       "</table>\n",
       "<p>1847 rows × 9 columns</p>\n",
       "</div>"
      ],
      "text/plain": [
       "     dataset_origin dataset_id  atom_number  has_protein  has_nucleic  \\\n",
       "74              osf      gwem8          780        False        False   \n",
       "75              osf      gwem8        18905        False        False   \n",
       "76              osf      gwem8         8100        False        False   \n",
       "96              osf      yfstw           30        False        False   \n",
       "97              osf      yfstw           12        False        False   \n",
       "...             ...        ...          ...          ...          ...   \n",
       "8999       figshare    2527738           82        False        False   \n",
       "9000       figshare    2527738           80        False        False   \n",
       "9002       figshare   11569452          142        False        False   \n",
       "9003       figshare   11569452         5036        False        False   \n",
       "9004       figshare   11569452          146        False        False   \n",
       "\n",
       "      has_lipid  has_water_ion  has_glucid  \\\n",
       "74        False          False       False   \n",
       "75        False          False       False   \n",
       "76        False          False       False   \n",
       "96        False          False       False   \n",
       "97        False          False       False   \n",
       "...         ...            ...         ...   \n",
       "8999      False          False       False   \n",
       "9000      False          False       False   \n",
       "9002      False          False       False   \n",
       "9003      False          False       False   \n",
       "9004      False          False       False   \n",
       "\n",
       "                                             filename  \n",
       "74    non-polar oil cluster (30 octane molecules).gro  \n",
       "75                                   kerogen slab.gro  \n",
       "76                                  calcite (104).gro  \n",
       "96                                      gros/LIP2.gro  \n",
       "97                                      gros/C55P.gro  \n",
       "...                                               ...  \n",
       "8999                                         hpo0.gro  \n",
       "9000                                         hpo2.gro  \n",
       "9002                         md_files/n-cage/conf.gro  \n",
       "9003                     md_files/c-cage/solvated.gro  \n",
       "9004                         md_files/c-cage/conf.gro  \n",
       "\n",
       "[1847 rows x 9 columns]"
      ]
     },
     "execution_count": 4,
     "metadata": {},
     "output_type": "execute_result"
    }
   ],
   "source": [
    "gro_df.query('has_lipid==False').query('has_protein==False').query('has_nucleic==False')"
   ]
  },
  {
   "cell_type": "markdown",
   "id": "6be761e4-6e34-43b7-9612-d0d07f4cdfe5",
   "metadata": {},
   "source": [
    "## Système size"
   ]
  },
  {
   "cell_type": "code",
   "execution_count": 5,
   "id": "bf88522e-7b62-4dba-8bc6-7daaff07cfd8",
   "metadata": {},
   "outputs": [
    {
     "data": {
      "image/png": "[encoded data removed]",
      "text/plain": [
       "<Figure size 720x504 with 1 Axes>"
      ]
     },
     "metadata": {
      "needs_background": "light"
     },
     "output_type": "display_data"
    }
   ],
   "source": [
    "plt.figure(figsize=(10,7))\n",
    "plt.rcParams.update({\"font.size\": 20})\n",
    "plt.hist(gro_df[\"atom_number\"],\n",
    "         bins=100,\n",
    "         color=\"tab:orange\")\n",
    "plt.xlabel(\"Number of particles\")\n",
    "plt.ylabel(\"Number of files\")\n",
    "plt.savefig(\"gromacs_gro_system_size_distribution.png\", dpi=300, bbox_inches=\"tight\")\n",
    "plt.savefig(\"gromacs_gro_system_size_distribution.svg\", bbox_inches=\"tight\")"
   ]
  },
  {
   "cell_type": "code",
   "execution_count": 6,
   "id": "4ae7b9d9-c9d9-4640-9ed5-5bf47dfb3e02",
   "metadata": {},
   "outputs": [
    {
     "ename": "KeyError",
     "evalue": "'k_particules'",
     "output_type": "error",
     "traceback": [
      "\u001b[0;31m---------------------------------------------------------------------------\u001b[0m",
      "\u001b[0;31mKeyError\u001b[0m                                  Traceback (most recent call last)",
      "\u001b[0;32m~/.soft/miniconda3/envs/mdws/lib/python3.9/site-packages/pandas/core/indexes/base.py\u001b[0m in \u001b[0;36mget_loc\u001b[0;34m(self, key, method, tolerance)\u001b[0m\n\u001b[1;32m   3620\u001b[0m             \u001b[0;32mtry\u001b[0m\u001b[0;34m:\u001b[0m\u001b[0;34m\u001b[0m\u001b[0;34m\u001b[0m\u001b[0m\n\u001b[0;32m-> 3621\u001b[0;31m                 \u001b[0;32mreturn\u001b[0m \u001b[0mself\u001b[0m\u001b[0;34m.\u001b[0m\u001b[0m_engine\u001b[0m\u001b[0;34m.\u001b[0m\u001b[0mget_loc\u001b[0m\u001b[0;34m(\u001b[0m\u001b[0mcasted_key\u001b[0m\u001b[0;34m)\u001b[0m\u001b[0;34m\u001b[0m\u001b[0;34m\u001b[0m\u001b[0m\n\u001b[0m\u001b[1;32m   3622\u001b[0m             \u001b[0;32mexcept\u001b[0m \u001b[0mKeyError\u001b[0m \u001b[0;32mas\u001b[0m \u001b[0merr\u001b[0m\u001b[0;34m:\u001b[0m\u001b[0;34m\u001b[0m\u001b[0;34m\u001b[0m\u001b[0m\n",
      "\u001b[0;32m~/.soft/miniconda3/envs/mdws/lib/python3.9/site-packages/pandas/_libs/index.pyx\u001b[0m in \u001b[0;36mpandas._libs.index.IndexEngine.get_loc\u001b[0;34m()\u001b[0m\n",
      "\u001b[0;32m~/.soft/miniconda3/envs/mdws/lib/python3.9/site-packages/pandas/_libs/index.pyx\u001b[0m in \u001b[0;36mpandas._libs.index.IndexEngine.get_loc\u001b[0;34m()\u001b[0m\n",
      "\u001b[0;32mpandas/_libs/hashtable_class_helper.pxi\u001b[0m in \u001b[0;36mpandas._libs.hashtable.PyObjectHashTable.get_item\u001b[0;34m()\u001b[0m\n",
      "\u001b[0;32mpandas/_libs/hashtable_class_helper.pxi\u001b[0m in \u001b[0;36mpandas._libs.hashtable.PyObjectHashTable.get_item\u001b[0;34m()\u001b[0m\n",
      "\u001b[0;31mKeyError\u001b[0m: 'k_particules'",
      "\nThe above exception was the direct cause of the following exception:\n",
      "\u001b[0;31mKeyError\u001b[0m                                  Traceback (most recent call last)",
      "\u001b[0;32m/tmp/ipykernel_158148/3134624295.py\u001b[0m in \u001b[0;36m<module>\u001b[0;34m\u001b[0m\n\u001b[1;32m     16\u001b[0m \u001b[0max\u001b[0m\u001b[0;34m.\u001b[0m\u001b[0mset_yticks\u001b[0m\u001b[0;34m(\u001b[0m\u001b[0mnp\u001b[0m\u001b[0;34m.\u001b[0m\u001b[0marange\u001b[0m\u001b[0;34m(\u001b[0m\u001b[0;36m0\u001b[0m\u001b[0;34m,\u001b[0m \u001b[0;36m1.1\u001b[0m\u001b[0;34m,\u001b[0m \u001b[0;36m0.2\u001b[0m\u001b[0;34m)\u001b[0m\u001b[0;34m,\u001b[0m \u001b[0;34m[\u001b[0m\u001b[0;34mf\"{value:.0f}\"\u001b[0m \u001b[0;32mfor\u001b[0m \u001b[0mvalue\u001b[0m \u001b[0;32min\u001b[0m \u001b[0mnp\u001b[0m\u001b[0;34m.\u001b[0m\u001b[0marange\u001b[0m\u001b[0;34m(\u001b[0m\u001b[0;36m0\u001b[0m\u001b[0;34m,\u001b[0m \u001b[0;36m1.1\u001b[0m\u001b[0;34m,\u001b[0m \u001b[0;36m0.2\u001b[0m\u001b[0;34m)\u001b[0m\u001b[0;34m*\u001b[0m\u001b[0;36m100\u001b[0m\u001b[0;34m]\u001b[0m\u001b[0;34m)\u001b[0m\u001b[0;34m\u001b[0m\u001b[0;34m\u001b[0m\u001b[0m\n\u001b[1;32m     17\u001b[0m \u001b[0max\u001b[0m\u001b[0;34m.\u001b[0m\u001b[0mset_xscale\u001b[0m\u001b[0;34m(\u001b[0m\u001b[0;34m\"log\"\u001b[0m\u001b[0;34m)\u001b[0m\u001b[0;34m\u001b[0m\u001b[0;34m\u001b[0m\u001b[0m\n\u001b[0;32m---> 18\u001b[0;31m \u001b[0max\u001b[0m\u001b[0;34m.\u001b[0m\u001b[0mset_xlim\u001b[0m\u001b[0;34m(\u001b[0m\u001b[0;36m1\u001b[0m\u001b[0;34m,\u001b[0m \u001b[0mgro_df\u001b[0m\u001b[0;34m[\u001b[0m\u001b[0;34m\"k_particules\"\u001b[0m\u001b[0;34m]\u001b[0m\u001b[0;34m.\u001b[0m\u001b[0mmax\u001b[0m\u001b[0;34m(\u001b[0m\u001b[0;34m)\u001b[0m\u001b[0;34m)\u001b[0m\u001b[0;34m\u001b[0m\u001b[0;34m\u001b[0m\u001b[0m\n\u001b[0m\u001b[1;32m     19\u001b[0m \u001b[0mplt\u001b[0m\u001b[0;34m.\u001b[0m\u001b[0msavefig\u001b[0m\u001b[0;34m(\u001b[0m\u001b[0;34m\"gromacs_gro_system_size_cumulated_distribution.png\"\u001b[0m\u001b[0;34m,\u001b[0m \u001b[0mdpi\u001b[0m\u001b[0;34m=\u001b[0m\u001b[0;36m300\u001b[0m\u001b[0;34m,\u001b[0m \u001b[0mbbox_inches\u001b[0m\u001b[0;34m=\u001b[0m\u001b[0;34m\"tight\"\u001b[0m\u001b[0;34m)\u001b[0m\u001b[0;34m\u001b[0m\u001b[0;34m\u001b[0m\u001b[0m\n\u001b[1;32m     20\u001b[0m \u001b[0mplt\u001b[0m\u001b[0;34m.\u001b[0m\u001b[0msavefig\u001b[0m\u001b[0;34m(\u001b[0m\u001b[0;34m\"gromacs_gro_system_size_cumulated_distribution.svg\"\u001b[0m\u001b[0;34m,\u001b[0m \u001b[0mbbox_inches\u001b[0m\u001b[0;34m=\u001b[0m\u001b[0;34m\"tight\"\u001b[0m\u001b[0;34m)\u001b[0m\u001b[0;34m\u001b[0m\u001b[0;34m\u001b[0m\u001b[0m\n",
      "\u001b[0;32m~/.soft/miniconda3/envs/mdws/lib/python3.9/site-packages/pandas/core/frame.py\u001b[0m in \u001b[0;36m__getitem__\u001b[0;34m(self, key)\u001b[0m\n\u001b[1;32m   3503\u001b[0m             \u001b[0;32mif\u001b[0m \u001b[0mself\u001b[0m\u001b[0;34m.\u001b[0m\u001b[0mcolumns\u001b[0m\u001b[0;34m.\u001b[0m\u001b[0mnlevels\u001b[0m \u001b[0;34m>\u001b[0m \u001b[0;36m1\u001b[0m\u001b[0;34m:\u001b[0m\u001b[0;34m\u001b[0m\u001b[0;34m\u001b[0m\u001b[0m\n\u001b[1;32m   3504\u001b[0m                 \u001b[0;32mreturn\u001b[0m \u001b[0mself\u001b[0m\u001b[0;34m.\u001b[0m\u001b[0m_getitem_multilevel\u001b[0m\u001b[0;34m(\u001b[0m\u001b[0mkey\u001b[0m\u001b[0;34m)\u001b[0m\u001b[0;34m\u001b[0m\u001b[0;34m\u001b[0m\u001b[0m\n\u001b[0;32m-> 3505\u001b[0;31m             \u001b[0mindexer\u001b[0m \u001b[0;34m=\u001b[0m \u001b[0mself\u001b[0m\u001b[0;34m.\u001b[0m\u001b[0mcolumns\u001b[0m\u001b[0;34m.\u001b[0m\u001b[0mget_loc\u001b[0m\u001b[0;34m(\u001b[0m\u001b[0mkey\u001b[0m\u001b[0;34m)\u001b[0m\u001b[0;34m\u001b[0m\u001b[0;34m\u001b[0m\u001b[0m\n\u001b[0m\u001b[1;32m   3506\u001b[0m             \u001b[0;32mif\u001b[0m \u001b[0mis_integer\u001b[0m\u001b[0;34m(\u001b[0m\u001b[0mindexer\u001b[0m\u001b[0;34m)\u001b[0m\u001b[0;34m:\u001b[0m\u001b[0;34m\u001b[0m\u001b[0;34m\u001b[0m\u001b[0m\n\u001b[1;32m   3507\u001b[0m                 \u001b[0mindexer\u001b[0m \u001b[0;34m=\u001b[0m \u001b[0;34m[\u001b[0m\u001b[0mindexer\u001b[0m\u001b[0;34m]\u001b[0m\u001b[0;34m\u001b[0m\u001b[0;34m\u001b[0m\u001b[0m\n",
      "\u001b[0;32m~/.soft/miniconda3/envs/mdws/lib/python3.9/site-packages/pandas/core/indexes/base.py\u001b[0m in \u001b[0;36mget_loc\u001b[0;34m(self, key, method, tolerance)\u001b[0m\n\u001b[1;32m   3621\u001b[0m                 \u001b[0;32mreturn\u001b[0m \u001b[0mself\u001b[0m\u001b[0;34m.\u001b[0m\u001b[0m_engine\u001b[0m\u001b[0;34m.\u001b[0m\u001b[0mget_loc\u001b[0m\u001b[0;34m(\u001b[0m\u001b[0mcasted_key\u001b[0m\u001b[0;34m)\u001b[0m\u001b[0;34m\u001b[0m\u001b[0;34m\u001b[0m\u001b[0m\n\u001b[1;32m   3622\u001b[0m             \u001b[0;32mexcept\u001b[0m \u001b[0mKeyError\u001b[0m \u001b[0;32mas\u001b[0m \u001b[0merr\u001b[0m\u001b[0;34m:\u001b[0m\u001b[0;34m\u001b[0m\u001b[0;34m\u001b[0m\u001b[0m\n\u001b[0;32m-> 3623\u001b[0;31m                 \u001b[0;32mraise\u001b[0m \u001b[0mKeyError\u001b[0m\u001b[0;34m(\u001b[0m\u001b[0mkey\u001b[0m\u001b[0;34m)\u001b[0m \u001b[0;32mfrom\u001b[0m \u001b[0merr\u001b[0m\u001b[0;34m\u001b[0m\u001b[0;34m\u001b[0m\u001b[0m\n\u001b[0m\u001b[1;32m   3624\u001b[0m             \u001b[0;32mexcept\u001b[0m \u001b[0mTypeError\u001b[0m\u001b[0;34m:\u001b[0m\u001b[0;34m\u001b[0m\u001b[0;34m\u001b[0m\u001b[0m\n\u001b[1;32m   3625\u001b[0m                 \u001b[0;31m# If we have a listlike key, _check_indexing_error will raise\u001b[0m\u001b[0;34m\u001b[0m\u001b[0;34m\u001b[0m\u001b[0m\n",
      "\u001b[0;31mKeyError\u001b[0m: 'k_particules'"
     ]
    },
    {
     "data": {
      "image/png": "[encoded data removed]",
      "text/plain": [
       "<Figure size 720x504 with 1 Axes>"
      ]
     },
     "metadata": {
      "needs_background": "light"
     },
     "output_type": "display_data"
    }
   ],
   "source": [
    "# Convert system size to k-particules (1000) \n",
    "gro_df[\"k_particles\"] = gro_df[\"atom_number\"] / 1000\n",
    "\n",
    "logbins = np.geomspace(gro_df[\"k_particles\"].min()+1, gro_df[\"k_particles\"].max(), 1_000)\n",
    "\n",
    "plt.rcParams.update({\"font.size\": 20})\n",
    "fig, ax = plt.subplots(figsize=(10,7))\n",
    "values, bins, _ = ax.hist(\n",
    "    gro_df[\"k_particles\"], \n",
    "    bins=logbins,\n",
    "    color=\"tab:orange\", linewidth=4,\n",
    "    histtype=\"step\", cumulative=True, density=True\n",
    ")\n",
    "ax.set_xlabel(r\"System size ($\\times$ 1000 particles)\")\n",
    "ax.set_ylabel(\"Cumulated distribution of files (%)\")\n",
    "ax.set_yticks(np.arange(0, 1.1, 0.2), [f\"{value:.0f}\" for value in np.arange(0, 1.1, 0.2)*100])\n",
    "ax.set_xscale(\"log\")\n",
    "ax.set_xlim(1, gro_df[\"k_particules\"].max())\n",
    "plt.savefig(\"gromacs_gro_system_size_cumulated_distribution.png\", dpi=300, bbox_inches=\"tight\")\n",
    "plt.savefig(\"gromacs_gro_system_size_cumulated_distribution.svg\", bbox_inches=\"tight\")"
   ]
  },
  {
   "cell_type": "markdown",
   "id": "b31aea22-f3c8-4acd-84a9-84ffd31115d8",
   "metadata": {},
   "source": [
    "## Upset plot\n",
    "\n",
    "Use of the library [upsetplot](https://upsetplot.readthedocs.io/en/stable/index.html)"
   ]
  },
  {
   "cell_type": "code",
   "execution_count": null,
   "id": "9361be81-4914-4feb-ba74-902bcffb8df4",
   "metadata": {},
   "outputs": [],
   "source": [
    "df_upset = pd.pivot_table(gro_df, \n",
    "                          index=[\"has_protein\", \"has_lipid\", \"has_nucleic\", \"has_water_ion\", \"has_glucid\"], \n",
    "                          values=[\"filename\"], \n",
    "                          aggfunc=len)\n",
    "df_upset"
   ]
  },
  {
   "cell_type": "code",
   "execution_count": null,
   "id": "9fcddb9e-320d-43a3-b0d2-52be32e6cfbf",
   "metadata": {},
   "outputs": [],
   "source": [
    "# Convert pivot dataframe to Pandas Series with multi-index\n",
    "sr_upset = pd.Series(index=df_upset.index, data=df_upset.values.flatten(), name=\"value\")\n",
    "sr_upset"
   ]
  },
  {
   "cell_type": "code",
   "execution_count": null,
   "id": "7cf5a83e-0d7d-4f8f-a268-0e5b751c04d2",
   "metadata": {},
   "outputs": [],
   "source": [
    "_ = UpSet(sr_upset, show_counts=True, element_size=40).plot()"
   ]
  },
  {
   "cell_type": "code",
   "execution_count": null,
   "id": "c77f06c5-3c82-4688-b372-f34e9cec955b",
   "metadata": {},
   "outputs": [],
   "source": []
  }
 ],
 "metadata": {
  "kernelspec": {
   "display_name": "Python 3 (ipykernel)",
   "language": "python",
   "name": "python3"
  },
  "language_info": {
   "codemirror_mode": {
    "name": "ipython",
    "version": 3
   },
   "file_extension": ".py",
   "mimetype": "text/x-python",
   "name": "python",
   "nbconvert_exporter": "python",
   "pygments_lexer": "ipython3",
   "version": "3.9.13"
  }
 },
 "nbformat": 4,
 "nbformat_minor": 5
}
